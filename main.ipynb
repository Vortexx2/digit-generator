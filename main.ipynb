{
 "cells": [
  {
   "attachments": {},
   "cell_type": "markdown",
   "metadata": {},
   "source": [
    "# MNIST Digit Generator"
   ]
  },
  {
   "cell_type": "code",
   "execution_count": 2,
   "metadata": {},
   "outputs": [],
   "source": [
    "import numpy as np\n",
    "from matplotlib import pyplot as plt\n",
    "import os\n",
    "\n",
    "import torch\n",
    "from torch import nn\n",
    "from torch.nn import functional as F\n",
    "from torchvision import datasets, transforms as T"
   ]
  },
  {
   "cell_type": "code",
   "execution_count": 3,
   "metadata": {},
   "outputs": [],
   "source": [
    "data_transforms = T.Compose([\n",
    "  T.ToTensor(),\n",
    "  T.Normalize((0.5, ), (0.5, ))\n",
    "])"
   ]
  },
  {
   "cell_type": "code",
   "execution_count": 4,
   "metadata": {},
   "outputs": [],
   "source": [
    "train_data = datasets.MNIST('data', train=True, download=True, transform=data_transforms)\n",
    "test_data = datasets.MNIST('data', train=False, download=True, transform=data_transforms)"
   ]
  },
  {
   "cell_type": "code",
   "execution_count": 5,
   "metadata": {},
   "outputs": [
    {
     "data": {
      "text/plain": [
       "(60000, 10000)"
      ]
     },
     "execution_count": 5,
     "metadata": {},
     "output_type": "execute_result"
    }
   ],
   "source": [
    "len(train_data), len(test_data)"
   ]
  },
  {
   "cell_type": "code",
   "execution_count": 6,
   "metadata": {},
   "outputs": [],
   "source": [
    "def denorm(Y, mean=0.5, std=0.5):\n",
    "  \"\"\"Inverse the normalisation operation. The default values for mean and std are the values used in this notebook\"\"\"\n",
    "  output = std * Y + mean\n",
    "  return output.clamp(0, 1)"
   ]
  },
  {
   "cell_type": "code",
   "execution_count": 7,
   "metadata": {},
   "outputs": [
    {
     "data": {
      "image/png": "[encoded data removed]",
      "text/plain": [
       "<Figure size 640x480 with 1 Axes>"
      ]
     },
     "metadata": {},
     "output_type": "display_data"
    }
   ],
   "source": [
    "def plot_image(img, label=None, cmap='gray'):\n",
    "  img = img.squeeze(0)\n",
    "  plt.tick_params(left=False, bottom=True, labelleft=False, labelbottom=False)\n",
    "\n",
    "  if label is not None:\n",
    "    plt.title(\"Target digit: \" + str(label))\n",
    "  plt.imshow(img, cmap=cmap)\n",
    "\n",
    "\n",
    "plot_image(denorm(train_data[0][0]), train_data[0][1])"
   ]
  },
  {
   "cell_type": "code",
   "execution_count": 8,
   "metadata": {},
   "outputs": [],
   "source": [
    "from torch.utils.data import DataLoader\n",
    "\n",
    "batch_size = 64\n",
    "train_loader = DataLoader(train_data, batch_size, shuffle=True, num_workers=2)\n",
    "test_loader = DataLoader(test_data, batch_size, shuffle=False, num_workers=2)"
   ]
  },
  {
   "cell_type": "code",
   "execution_count": 9,
   "metadata": {},
   "outputs": [
    {
     "data": {
      "image/png": "[encoded data removed]",
      "text/plain": [
       "<Figure size 640x480 with 1 Axes>"
      ]
     },
     "metadata": {},
     "output_type": "display_data"
    }
   ],
   "source": [
    "def check_dataloader(dloader):\n",
    "  for images, labels in train_loader:\n",
    "    plot_image(images[0].numpy(), labels[0].item())\n",
    "\n",
    "    break\n",
    "\n",
    "check_dataloader(train_loader)"
   ]
  },
  {
   "cell_type": "code",
   "execution_count": 10,
   "metadata": {},
   "outputs": [
    {
     "data": {
      "text/plain": [
       "device(type='cuda')"
      ]
     },
     "execution_count": 10,
     "metadata": {},
     "output_type": "execute_result"
    }
   ],
   "source": [
    "device = torch.device('cuda' if torch.cuda.is_available() else 'cpu')\n",
    "device"
   ]
  },
  {
   "attachments": {},
   "cell_type": "markdown",
   "metadata": {},
   "source": [
    "### Designing the GAN\n",
    "\n",
    "##### Desigining the Discriminator"
   ]
  },
  {
   "cell_type": "code",
   "execution_count": 11,
   "metadata": {},
   "outputs": [],
   "source": [
    "class Discriminator(nn.Module):\n",
    "\n",
    "  def __init__(self, image_size, hidden_size):\n",
    "    super(Discriminator, self).__init__()\n",
    "\n",
    "    self.image_size, self.hidden_size = image_size, hidden_size\n",
    "\n",
    "    self.lin1 = nn.Linear(image_size, hidden_size)\n",
    "    self.lrelu = nn.LeakyReLU(0.02)\n",
    "    self.bn1 = nn.BatchNorm1d(hidden_size)\n",
    "\n",
    "    self.lin2 = nn.Linear(hidden_size, hidden_size)\n",
    "    self.lin3 = nn.Linear(hidden_size, 1)\n",
    "\n",
    "    \n",
    "  def forward(self, X):\n",
    "    X = self.bn1(self.lrelu(self.lin1(X)))\n",
    "    X = self.bn1(self.lrelu(self.lin2(X)))\n",
    "    return torch.sigmoid(self.lin3(X))\n",
    "\n",
    "  def __repr__(self) -> str:\n",
    "    return f\"Linear({self.image_size}, {self.hidden_size}) -> LeakyReLU(0.02) ->\\nLinear({self.hidden_size}, {self.hidden_size}) -> LeakyReLU(0.02) ->\\nLinear({self.hidden_size}, 1) -> Sigmoid()\"\n"
   ]
  },
  {
   "cell_type": "code",
   "execution_count": 12,
   "metadata": {},
   "outputs": [
    {
     "data": {
      "text/plain": [
       "Linear(784, 256) -> LeakyReLU(0.02) ->\n",
       "Linear(256, 256) -> LeakyReLU(0.02) ->\n",
       "Linear(256, 1) -> Sigmoid()"
      ]
     },
     "execution_count": 12,
     "metadata": {},
     "output_type": "execute_result"
    }
   ],
   "source": [
    "image_size, hidden_size = 784, 256\n",
    "disc = Discriminator(image_size, hidden_size)\n",
    "disc.to(device)"
   ]
  },
  {
   "attachments": {},
   "cell_type": "markdown",
   "metadata": {},
   "source": [
    "##### Designing the Generator"
   ]
  },
  {
   "cell_type": "code",
   "execution_count": 13,
   "metadata": {},
   "outputs": [],
   "source": [
    "class Generator(nn.Module):\n",
    "\n",
    "  def __init__(self, latent_size, hidden_size, image_size):\n",
    "    super(Generator, self).__init__()\n",
    "    self.lin1 = nn.Linear(latent_size, hidden_size)\n",
    "    self.lrelu = nn.LeakyReLU(0.02)\n",
    "\n",
    "    self.lin2 = nn.Linear(hidden_size, hidden_size)\n",
    "    self.lin3 = nn.Linear(hidden_size, image_size)\n",
    "\n",
    "\n",
    "  def forward(self, X):\n",
    "    X = self.lrelu(self.lin1(X))\n",
    "    X = self.lrelu(self.lin2(X))\n",
    "    return torch.tanh(self.lin3(X))"
   ]
  },
  {
   "cell_type": "code",
   "execution_count": 14,
   "metadata": {},
   "outputs": [
    {
     "data": {
      "text/plain": [
       "Generator(\n",
       "  (lin1): Linear(in_features=64, out_features=256, bias=True)\n",
       "  (lrelu): LeakyReLU(negative_slope=0.02)\n",
       "  (lin2): Linear(in_features=256, out_features=256, bias=True)\n",
       "  (lin3): Linear(in_features=256, out_features=784, bias=True)\n",
       ")"
      ]
     },
     "execution_count": 14,
     "metadata": {},
     "output_type": "execute_result"
    }
   ],
   "source": [
    "latent_size = 64\n",
    "gen = Generator(latent_size, hidden_size, image_size)\n",
    "gen.to(device)"
   ]
  },
  {
   "cell_type": "code",
   "execution_count": 18,
   "metadata": {},
   "outputs": [
    {
     "data": {
      "image/png": "[encoded data removed]",
      "text/plain": [
       "<Figure size 640x480 with 1 Axes>"
      ]
     },
     "metadata": {},
     "output_type": "display_data"
    }
   ],
   "source": [
    "# testing out the generator\n",
    "y = gen(torch.randn((1, latent_size), device=device))\n",
    "plot_image(denorm( y.reshape(1, 28, 28)).detach().cpu().numpy())"
   ]
  },
  {
   "attachments": {},
   "cell_type": "markdown",
   "metadata": {},
   "source": [
    "### Training the Discriminator"
   ]
  },
  {
   "cell_type": "code",
   "execution_count": 19,
   "metadata": {},
   "outputs": [],
   "source": [
    "def reset_grad(optims):\n",
    "  for optim in optims:\n",
    "    optims[optim].zero_grad()"
   ]
  },
  {
   "cell_type": "code",
   "execution_count": 20,
   "metadata": {},
   "outputs": [],
   "source": [
    "def get_accuracy_binary(outputs, target_class):\n",
    "  \"\"\"Returns num_correct\"\"\"\n",
    "  len_outputs = outputs.size(0)\n",
    "  num_correct = (torch.round(outputs) == target_class).sum()\n",
    "  return num_correct.item()\n"
   ]
  },
  {
   "cell_type": "code",
   "execution_count": 21,
   "metadata": {},
   "outputs": [
    {
     "data": {
      "text/plain": [
       "(tensor([[0.2547],\n",
       "         [0.9980],\n",
       "         [0.0796]]),\n",
       " 1)"
      ]
     },
     "execution_count": 21,
     "metadata": {},
     "output_type": "execute_result"
    }
   ],
   "source": [
    "a = torch.rand((3, 1))\n",
    "a, get_accuracy_binary(a, 1)"
   ]
  },
  {
   "cell_type": "code",
   "execution_count": 22,
   "metadata": {},
   "outputs": [],
   "source": [
    "def train_discriminator(images, disc, gen, optimizers, criterion):\n",
    "  \"\"\"Returns the following for each minibatch: `(loss, real_score, fake_score)`\"\"\"\n",
    "\n",
    "  # batch_size is redefined because len of images might be redefined somewhere else\n",
    "  batch_size = len(images)\n",
    "\n",
    "  real_labels = torch.ones((batch_size, 1), device=device)\n",
    "  fake_labels = torch.zeros((batch_size, 1), device=device)\n",
    "\n",
    "  # train on real data, discriminator should aim to predict 1\n",
    "  outputs = disc(images)\n",
    "  d_real = criterion(outputs, real_labels)\n",
    "  # we set target class to 1 below, because discriminator's accuracy on real images should be based on 1\n",
    "  real_score = get_accuracy_binary(outputs, 1)\n",
    "\n",
    "  # train on fake data, discriminator should aim to predict 0\n",
    "  Z = torch.randn((batch_size, latent_size), device=device)\n",
    "  fake_images = gen(Z)\n",
    "\n",
    "  outputs = disc(fake_images)\n",
    "  # we set target class to 0 below, because discriminator's accuracy on fake images should be based on 0\n",
    "  d_fake = criterion(outputs, fake_labels)\n",
    "  fake_score = get_accuracy_binary(outputs, 0)\n",
    "\n",
    "  d_loss = d_real + d_fake\n",
    "\n",
    "  reset_grad(optimizers)\n",
    "  d_loss.backward()\n",
    "\n",
    "  optimizers[\"disc\"].step()\n",
    "\n",
    "  return d_loss, real_score, fake_score"
   ]
  },
  {
   "attachments": {},
   "cell_type": "markdown",
   "metadata": {},
   "source": [
    "### Training the Generator"
   ]
  },
  {
   "cell_type": "code",
   "execution_count": 23,
   "metadata": {},
   "outputs": [],
   "source": [
    "def train_generator(disc, gen, optimizers, loss):\n",
    "  \"\"\"Returns the following for 1 minibatch: `(loss, fake_images)`. This loss is the loss attributed to the amount of images that the generator produced that got classified as fake. This will aim to improve the generator.\"\"\"\n",
    "  real_labels = torch.ones((batch_size, 1), device=device)\n",
    "\n",
    "  Z = torch.randn((batch_size, latent_size), device=device)\n",
    "  fake_images = gen(Z)\n",
    "\n",
    "  disc_preds = disc(fake_images)\n",
    "\n",
    "  fake_score = get_accuracy_binary(disc_preds, 1)\n",
    "\n",
    "  # generator has to try and fool the discriminator\n",
    "  # try and make the discriminator predict 1 for actually fake images\n",
    "  d_loss = loss(disc_preds, real_labels)\n",
    "\n",
    "  reset_grad(optimizers)\n",
    "  d_loss.backward()\n",
    "  optimizers['gen'].step()\n",
    "\n",
    "  return d_loss, fake_images"
   ]
  },
  {
   "attachments": {},
   "cell_type": "markdown",
   "metadata": {},
   "source": [
    "##### Utilites for visualisation of images"
   ]
  },
  {
   "cell_type": "code",
   "execution_count": 24,
   "metadata": {},
   "outputs": [],
   "source": [
    "real_samples_dir, fake_samples_dir = 'samples/real', 'samples/fake'\n",
    "\n",
    "for dir in [real_samples_dir, fake_samples_dir]:\n",
    "  os.makedirs(dir, exist_ok=True)"
   ]
  },
  {
   "cell_type": "code",
   "execution_count": 25,
   "metadata": {},
   "outputs": [],
   "source": [
    "from IPython.display import Image\n",
    "from torchvision.utils import save_image, make_grid\n",
    "\n",
    "n_rows, n_cols = 8, 8\n",
    "\n",
    "\n",
    "def save_real_images(loader):\n",
    "\n",
    "  real_grid_path = os.path.join(real_samples_dir, 'real_grid.png')\n",
    "\n",
    "  # if real image grid exists, don't make it again\n",
    "  if os.path.exists(real_grid_path):\n",
    "    return\n",
    "\n",
    "  # we will save a grid of real images\n",
    "  for images, labels in loader:\n",
    "    images = denorm(images)\n",
    "    grid_image = make_grid(images, n_rows).permute(1, 2, 0)\n",
    "    plot_image(grid_image, \"Grid of real images\")\n",
    "    print(\"Saving above real grid of images\")\n",
    "    save_image(images, real_grid_path, n_rows=n_rows)\n",
    "    break\n"
   ]
  },
  {
   "cell_type": "code",
   "execution_count": 26,
   "metadata": {},
   "outputs": [
    {
     "name": "stdout",
     "output_type": "stream",
     "text": [
      "torch.Size([64, 1, 28, 28])\n"
     ]
    }
   ],
   "source": [
    "sample_latent_vector = torch.randn((batch_size, latent_size), device=device)\n",
    "\n",
    "def save_fake_images(index):\n",
    "  gen_images = gen(sample_latent_vector)\n",
    "\n",
    "  target_shape = (sample_latent_vector.size(0), 1, 28, 28)\n",
    "  gen_images = denorm(gen_images).reshape(target_shape)\n",
    "  print(gen_images.shape)\n",
    "  fake_grid_path = os.path.join(fake_samples_dir, f\"fake_{index:04d}.png\")\n",
    "  save_image(gen_images, fake_grid_path, n_rows=n_rows)\n",
    "\n",
    "save_fake_images(0)"
   ]
  },
  {
   "attachments": {},
   "cell_type": "markdown",
   "metadata": {},
   "source": [
    "### Training of the entire network"
   ]
  },
  {
   "cell_type": "code",
   "execution_count": 33,
   "metadata": {},
   "outputs": [],
   "source": [
    "criterion = nn.BCELoss()\n",
    "lr = 0.002\n",
    "\n",
    "optimizers = {\n",
    "  \"disc\": torch.optim.SGD(disc.parameters(), lr=lr, momentum=0.9),\n",
    "  \"gen\": torch.optim.SGD(gen.parameters(), lr=lr, momentum=0.9)\n",
    "}"
   ]
  },
  {
   "cell_type": "code",
   "execution_count": 34,
   "metadata": {},
   "outputs": [
    {
     "name": "stdout",
     "output_type": "stream",
     "text": [
      "Epoch [0 | 100]: \n",
      "\t d_loss: 1.3875346183776855, g_loss: 0.6932224035263062, D(X): 14, D(G(z)): 32\n",
      "Saving the fake images for the epoch $0\n",
      "torch.Size([64, 1, 28, 28])\n",
      "Epoch [1 | 100]: \n",
      "\t d_loss: 1.386936902999878, g_loss: 0.6931865215301514, D(X): 13, D(G(z)): 32\n",
      "Epoch [2 | 100]: \n",
      "\t d_loss: 1.3867262601852417, g_loss: 0.6931610107421875, D(X): 16, D(G(z)): 32\n",
      "Epoch [3 | 100]: \n",
      "\t d_loss: 1.3865445852279663, g_loss: 0.6932034492492676, D(X): 17, D(G(z)): 32\n",
      "Saving the fake images for the epoch $3\n",
      "torch.Size([64, 1, 28, 28])\n",
      "Epoch [4 | 100]: \n",
      "\t d_loss: 1.3866629600524902, g_loss: 0.6932010650634766, D(X): 14, D(G(z)): 32\n",
      "Epoch [5 | 100]: \n",
      "\t d_loss: 1.3868165016174316, g_loss: 0.693172812461853, D(X): 16, D(G(z)): 32\n",
      "Epoch [6 | 100]: \n",
      "\t d_loss: 1.386502981185913, g_loss: 0.6931552886962891, D(X): 17, D(G(z)): 32\n",
      "Saving the fake images for the epoch $6\n",
      "torch.Size([64, 1, 28, 28])\n",
      "Epoch [7 | 100]: \n",
      "\t d_loss: 1.386383056640625, g_loss: 0.6931781768798828, D(X): 16, D(G(z)): 32\n",
      "Epoch [8 | 100]: \n",
      "\t d_loss: 1.3865188360214233, g_loss: 0.6931595802307129, D(X): 12, D(G(z)): 32\n",
      "Epoch [9 | 100]: \n",
      "\t d_loss: 1.3864248991012573, g_loss: 0.6931891441345215, D(X): 17, D(G(z)): 32\n",
      "Saving the fake images for the epoch $9\n",
      "torch.Size([64, 1, 28, 28])\n",
      "Epoch [10 | 100]: \n",
      "\t d_loss: 1.3864169120788574, g_loss: 0.6931569576263428, D(X): 16, D(G(z)): 32\n",
      "Epoch [11 | 100]: \n",
      "\t d_loss: 1.3864139318466187, g_loss: 0.6931943893432617, D(X): 16, D(G(z)): 32\n",
      "Epoch [12 | 100]: \n",
      "\t d_loss: 1.3864634037017822, g_loss: 0.6931551694869995, D(X): 14, D(G(z)): 32\n",
      "Saving the fake images for the epoch $12\n",
      "torch.Size([64, 1, 28, 28])\n",
      "Epoch [13 | 100]: \n",
      "\t d_loss: 1.386457085609436, g_loss: 0.6931381225585938, D(X): 16, D(G(z)): 0\n",
      "Epoch [14 | 100]: \n",
      "\t d_loss: 1.386391520500183, g_loss: 0.6931660175323486, D(X): 18, D(G(z)): 32\n",
      "Epoch [15 | 100]: \n",
      "\t d_loss: 1.3863625526428223, g_loss: 0.6931380033493042, D(X): 14, D(G(z)): 0\n",
      "Saving the fake images for the epoch $15\n",
      "torch.Size([64, 1, 28, 28])\n",
      "Epoch [16 | 100]: \n"
     ]
    }
   ],
   "source": [
    "from math import floor\n",
    "\n",
    "def init_weights(m):\n",
    "  if isinstance(m, nn.Linear):\n",
    "    nn.init.xavier_uniform_(m.weight)\n",
    "    m.bias.data.fill_(0)\n",
    "\n",
    "def train_network(disc, gen, train_loader, optimizers, loss, num_epochs):\n",
    "\n",
    "  disc.apply(init_weights)\n",
    "\n",
    "  d_losses, g_losses, real_scores, fake_scores = [], [], [], []\n",
    "\n",
    "  for epoch in range( num_epochs ):\n",
    "\n",
    "    print(f\"Epoch [{epoch} | {num_epochs}]: \")\n",
    "\n",
    "    for i, ( images, labels ) in enumerate( train_loader ):\n",
    "\n",
    "      images = images.reshape(images.size(0), -1).to(device)\n",
    "\n",
    "      d_loss, real_score, fake_score = train_discriminator(images, disc, gen, optimizers, loss)\n",
    "      g_loss, fake_images = train_generator(disc, gen, optimizers, loss)\n",
    "\n",
    "    print(f\"\\t d_loss: {d_loss}, g_loss: {g_loss}, D(X): {real_score}, D(G(z)): {fake_score}\")\n",
    "\n",
    "    d_losses.append(d_loss)\n",
    "    g_losses.append(g_loss)\n",
    "    real_scores.append(real_score)\n",
    "    fake_scores.append(fake_score)\n",
    "    \n",
    "    if epoch % 3 == 0:\n",
    "      print(f\"Saving the fake images for the epoch ${epoch}\")\n",
    "      save_fake_images(epoch)\n",
    "\n",
    "  \n",
    "  return d_losses, g_losses, real_scores, fake_scores\n",
    "\n",
    "\n",
    "train_network(disc, gen, train_loader, optimizers, criterion, 100)"
   ]
  }
 ],
 "metadata": {
  "kernelspec": {
   "display_name": "fastapi-ml",
   "language": "python",
   "name": "python3"
  },
  "language_info": {
   "codemirror_mode": {
    "name": "ipython",
    "version": 3
   },
   "file_extension": ".py",
   "mimetype": "text/x-python",
   "name": "python",
   "nbconvert_exporter": "python",
   "pygments_lexer": "ipython3",
   "version": "3.9.16"
  },
  "orig_nbformat": 4,
  "vscode": {
   "interpreter": {
    "hash": "a72f2fb76a61cd37ad6891cc8d4df39cb21bbe70362a60424286c2696b35476d"
   }
  }
 },
 "nbformat": 4,
 "nbformat_minor": 2
}
