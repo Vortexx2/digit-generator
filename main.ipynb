{
 "cells": [
  {
   "attachments": {},
   "cell_type": "markdown",
   "metadata": {},
   "source": [
    "# MNIST Digit Generator"
   ]
  },
  {
   "cell_type": "code",
   "execution_count": 1,
   "metadata": {},
   "outputs": [],
   "source": [
    "import numpy as np\n",
    "from matplotlib import pyplot as plt\n",
    "import os\n",
    "\n",
    "import torch\n",
    "from torch import nn\n",
    "from torch.nn import functional as F\n",
    "from torchvision import datasets, transforms as T"
   ]
  },
  {
   "cell_type": "code",
   "execution_count": 2,
   "metadata": {},
   "outputs": [],
   "source": [
    "data_transforms = T.Compose([\n",
    "  T.ToTensor(),\n",
    "  T.Normalize((0.5, ), (0.5, ))\n",
    "])"
   ]
  },
  {
   "cell_type": "code",
   "execution_count": 3,
   "metadata": {},
   "outputs": [
    {
     "name": "stderr",
     "output_type": "stream",
     "text": [
      "d:\\ProgramFiles\\anaconda\\envs\\fastapi-ml\\lib\\site-packages\\torchvision\\datasets\\mnist.py:498: UserWarning: The given NumPy array is not writeable, and PyTorch does not support non-writeable tensors. This means you can write to the underlying (supposedly non-writeable) NumPy array using the tensor. You may want to copy the array to protect its data or make it writeable before converting it to a tensor. This type of warning will be suppressed for the rest of this program. (Triggered internally at  ..\\torch\\csrc\\utils\\tensor_numpy.cpp:180.)\n",
      "  return torch.from_numpy(parsed.astype(m[2], copy=False)).view(*s)\n"
     ]
    }
   ],
   "source": [
    "train_data = datasets.MNIST('data', train=True, download=True, transform=data_transforms)\n",
    "test_data = datasets.MNIST('data', train=False, download=True, transform=data_transforms)"
   ]
  },
  {
   "cell_type": "code",
   "execution_count": 4,
   "metadata": {},
   "outputs": [
    {
     "data": {
      "text/plain": [
       "(60000, 10000)"
      ]
     },
     "execution_count": 4,
     "metadata": {},
     "output_type": "execute_result"
    }
   ],
   "source": [
    "len(train_data), len(test_data)"
   ]
  },
  {
   "cell_type": "code",
   "execution_count": 5,
   "metadata": {},
   "outputs": [
    {
     "data": {
      "image/png": "[encoded data removed]",
      "text/plain": [
       "<Figure size 432x288 with 1 Axes>"
      ]
     },
     "metadata": {},
     "output_type": "display_data"
    }
   ],
   "source": [
    "def plot_image(img, label=None, cmap='gray'):\n",
    "  img = img.squeeze(0)\n",
    "  plt.tick_params(left=False, bottom=True, labelleft=False, labelbottom=False)\n",
    "\n",
    "  if label is not None:\n",
    "    plt.title(\"Target digit: \" + str(label))\n",
    "  plt.imshow(img, cmap=cmap)\n",
    "\n",
    "\n",
    "plot_image(train_data[1][0], train_data[1][1])"
   ]
  },
  {
   "cell_type": "code",
   "execution_count": 6,
   "metadata": {},
   "outputs": [],
   "source": [
    "from torch.utils.data import DataLoader\n",
    "\n",
    "batch_size = 64\n",
    "train_loader = DataLoader(train_data, batch_size, shuffle=True, num_workers=4)\n",
    "test_loader = DataLoader(test_data, batch_size, shuffle=False, num_workers=4)"
   ]
  },
  {
   "cell_type": "code",
   "execution_count": 7,
   "metadata": {},
   "outputs": [
    {
     "data": {
      "image/png": "[encoded data removed]",
      "text/plain": [
       "<Figure size 432x288 with 1 Axes>"
      ]
     },
     "metadata": {},
     "output_type": "display_data"
    }
   ],
   "source": [
    "def check_dataloader(dloader):\n",
    "  for images, labels in train_loader:\n",
    "    plot_image(images[0].numpy(), labels[0].item())\n",
    "\n",
    "    break\n",
    "\n",
    "check_dataloader(train_loader)"
   ]
  },
  {
   "cell_type": "code",
   "execution_count": 8,
   "metadata": {},
   "outputs": [
    {
     "data": {
      "text/plain": [
       "device(type='cuda')"
      ]
     },
     "execution_count": 8,
     "metadata": {},
     "output_type": "execute_result"
    }
   ],
   "source": [
    "device = torch.device('cuda' if torch.cuda.is_available() else 'cpu')\n",
    "device"
   ]
  },
  {
   "attachments": {},
   "cell_type": "markdown",
   "metadata": {},
   "source": [
    "### Designing the GAN\n",
    "\n",
    "##### Desigining the Discriminator"
   ]
  },
  {
   "cell_type": "code",
   "execution_count": 9,
   "metadata": {},
   "outputs": [],
   "source": [
    "class Discriminator(nn.Module):\n",
    "\n",
    "  def __init__(self, image_size, hidden_size):\n",
    "    super(Discriminator, self).__init__()\n",
    "\n",
    "    self.image_size, self.hidden_size = image_size, hidden_size\n",
    "\n",
    "    self.lin1 = nn.Linear(image_size, hidden_size)\n",
    "    self.lrelu = nn.LeakyReLU(0.02)\n",
    "    self.lin2 = nn.Linear(hidden_size, hidden_size)\n",
    "    self.lin3 = nn.Linear(hidden_size, 1)\n",
    "    \n",
    "  def forward(self, X):\n",
    "    X = self.lrelu(self.lin1(X))\n",
    "    X = self.lrelu(self.lin2(X))\n",
    "    return F.sigmoid(self.lin3(X))\n",
    "\n",
    "  def __repr__(self) -> str:\n",
    "    return f\"Linear({self.image_size}, {self.hidden_size}) -> LeakyReLU(0.02) ->\\nLinear({self.hidden_size}, {self.hidden_size}) -> LeakyReLU(0.02) ->\\nLinear({self.hidden_size}, 1) -> Sigmoid()\"\n"
   ]
  },
  {
   "cell_type": "code",
   "execution_count": 10,
   "metadata": {},
   "outputs": [
    {
     "data": {
      "text/plain": [
       "Linear(784, 256) -> LeakyReLU(0.02) ->\n",
       "Linear(256, 256) -> LeakyReLU(0.02) ->\n",
       "Linear(256, 1) -> Sigmoid()"
      ]
     },
     "execution_count": 10,
     "metadata": {},
     "output_type": "execute_result"
    }
   ],
   "source": [
    "image_size, hidden_size = 784, 256\n",
    "disc = Discriminator(image_size, hidden_size)\n",
    "disc.to(device)"
   ]
  },
  {
   "attachments": {},
   "cell_type": "markdown",
   "metadata": {},
   "source": [
    "##### Designing the Generator"
   ]
  },
  {
   "cell_type": "code",
   "execution_count": 11,
   "metadata": {},
   "outputs": [],
   "source": [
    "class Generator(nn.Module):\n",
    "\n",
    "  def __init__(self, latent_size, hidden_size, image_size):\n",
    "    super(Generator, self).__init__()\n",
    "    self.lin1 = nn.Linear(1, hidden_size)\n",
    "    self.lrelu = nn.LeakyReLU(0.02)\n",
    "\n",
    "    self.lin2 = nn.Linear(hidden_size, hidden_size)\n",
    "    self.lin3 = nn.Linear(hidden_size, image_size)\n",
    "\n",
    "\n",
    "  def forward(self, X):\n",
    "    X = self.lrelu(self.lin1(X))\n",
    "    X = self.lrelu(self.lin2(X))\n",
    "    return torch.tanh(self.lin3(X))"
   ]
  },
  {
   "cell_type": "code",
   "execution_count": 12,
   "metadata": {},
   "outputs": [
    {
     "data": {
      "text/plain": [
       "Generator(\n",
       "  (lin1): Linear(in_features=1, out_features=256, bias=True)\n",
       "  (lrelu): LeakyReLU(negative_slope=0.02)\n",
       "  (lin2): Linear(in_features=256, out_features=256, bias=True)\n",
       "  (lin3): Linear(in_features=256, out_features=784, bias=True)\n",
       ")"
      ]
     },
     "execution_count": 12,
     "metadata": {},
     "output_type": "execute_result"
    }
   ],
   "source": [
    "latent_size = 64\n",
    "gen = Generator(latent_size, hidden_size, image_size)\n",
    "gen.to(device)"
   ]
  },
  {
   "cell_type": "code",
   "execution_count": 13,
   "metadata": {},
   "outputs": [
    {
     "data": {
      "image/png": "[encoded data removed]",
      "text/plain": [
       "<Figure size 432x288 with 1 Axes>"
      ]
     },
     "metadata": {},
     "output_type": "display_data"
    }
   ],
   "source": [
    "# testing out the generator\n",
    "y = gen(torch.rand((latent_size, ), device=device))\n",
    "plot_image(y.reshape(1, 28, 28).detach().cpu().numpy())"
   ]
  },
  {
   "attachments": {},
   "cell_type": "markdown",
   "metadata": {},
   "source": [
    "### Training the Discriminator"
   ]
  },
  {
   "cell_type": "code",
   "execution_count": 14,
   "metadata": {},
   "outputs": [],
   "source": [
    "criterion = nn.BCELoss()\n",
    "lr = 0.01\n",
    "\n",
    "optimizers = {\n",
    "  disc: torch.optim.Adam(disc.parameters(), lr=lr),\n",
    "  gen: torch.optim.Adam(gen.parameters(), lr=lr)\n",
    "}"
   ]
  },
  {
   "cell_type": "code",
   "execution_count": 17,
   "metadata": {},
   "outputs": [],
   "source": [
    "def reset_grad(optims):\n",
    "  for optim in optims:\n",
    "    optim.zero_grad()"
   ]
  },
  {
   "cell_type": "code",
   "execution_count": 42,
   "metadata": {},
   "outputs": [],
   "source": [
    "def get_accuracy_binary(outputs, target_class):\n",
    "  \"\"\"Returns ( num_correct, accuracy )\"\"\"\n",
    "  len_outputs = outputs.size(0)\n",
    "  num_correct = (torch.round(outputs) == target_class).sum()\n",
    "  return num_correct.item(), (num_correct / len_outputs)\n"
   ]
  },
  {
   "cell_type": "code",
   "execution_count": 43,
   "metadata": {},
   "outputs": [
    {
     "data": {
      "text/plain": [
       "(tensor([[0.8876],\n",
       "         [0.6232],\n",
       "         [0.2775]]),\n",
       " (2, tensor(0.6667)))"
      ]
     },
     "execution_count": 43,
     "metadata": {},
     "output_type": "execute_result"
    }
   ],
   "source": [
    "a = torch.rand((3, 1))\n",
    "a, get_accuracy_binary(a, 1)"
   ]
  },
  {
   "cell_type": "code",
   "execution_count": 20,
   "metadata": {},
   "outputs": [
    {
     "data": {
      "text/plain": [
       "tensor(0.)"
      ]
     },
     "execution_count": 20,
     "metadata": {},
     "output_type": "execute_result"
    }
   ],
   "source": [
    "torch.round(torch.tensor(0.5))"
   ]
  },
  {
   "cell_type": "code",
   "execution_count": null,
   "metadata": {},
   "outputs": [],
   "source": [
    "def train_discriminator(images):\n",
    "  real_labels = torch.ones((batch_size, 1), device=device)\n",
    "  fake_labels = torch.ones((batch_size, 1), device=device)\n",
    "\n",
    "  # train on real data, discriminator should aim to get better\n",
    "  outputs = disc(images)\n",
    "  d_real = criterion(outputs, real_labels)\n",
    "  # real_score = output"
   ]
  }
 ],
 "metadata": {
  "kernelspec": {
   "display_name": "fastapi-ml",
   "language": "python",
   "name": "python3"
  },
  "language_info": {
   "codemirror_mode": {
    "name": "ipython",
    "version": 3
   },
   "file_extension": ".py",
   "mimetype": "text/x-python",
   "name": "python",
   "nbconvert_exporter": "python",
   "pygments_lexer": "ipython3",
   "version": "3.9.6"
  },
  "orig_nbformat": 4,
  "vscode": {
   "interpreter": {
    "hash": "a72f2fb76a61cd37ad6891cc8d4df39cb21bbe70362a60424286c2696b35476d"
   }
  }
 },
 "nbformat": 4,
 "nbformat_minor": 2
}
