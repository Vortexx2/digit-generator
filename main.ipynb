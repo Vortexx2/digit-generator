{
 "cells": [
  {
   "attachments": {},
   "cell_type": "markdown",
   "metadata": {},
   "source": [
    "# MNIST Digit Generator"
   ]
  },
  {
   "cell_type": "code",
   "execution_count": 1,
   "metadata": {},
   "outputs": [],
   "source": [
    "import numpy as np\n",
    "from matplotlib import pyplot as plt\n",
    "import os\n",
    "\n",
    "import torch\n",
    "from torch import nn\n",
    "from torch.nn import functional as F\n",
    "from torchvision import datasets, transforms as T"
   ]
  },
  {
   "cell_type": "code",
   "execution_count": 2,
   "metadata": {},
   "outputs": [],
   "source": [
    "data_transforms = T.Compose([\n",
    "  T.ToTensor(),\n",
    "  T.Normalize((0.5, ), (0.5, ))\n",
    "])"
   ]
  },
  {
   "cell_type": "code",
   "execution_count": 3,
   "metadata": {},
   "outputs": [],
   "source": [
    "train_data = datasets.MNIST('data', train=True, download=True, transform=data_transforms)\n",
    "test_data = datasets.MNIST('data', train=False, download=True, transform=data_transforms)"
   ]
  },
  {
   "cell_type": "code",
   "execution_count": 4,
   "metadata": {},
   "outputs": [
    {
     "data": {
      "text/plain": [
       "(60000, 10000)"
      ]
     },
     "execution_count": 4,
     "metadata": {},
     "output_type": "execute_result"
    }
   ],
   "source": [
    "len(train_data), len(test_data)"
   ]
  },
  {
   "cell_type": "code",
   "execution_count": 5,
   "metadata": {},
   "outputs": [],
   "source": [
    "models_dir = \"models\"\n",
    "os.makedirs(models_dir, exist_ok=True)\n",
    "\n",
    "linear_model_path = \"models/lin-gan.pth\""
   ]
  },
  {
   "cell_type": "code",
   "execution_count": 6,
   "metadata": {},
   "outputs": [],
   "source": [
    "def denorm(Y, mean=0.5, std=0.5):\n",
    "  \"\"\"Inverse the normalisation operation. The default values for mean and std are the values used in this notebook\"\"\"\n",
    "  output = std * Y + mean\n",
    "  return output.clamp(0, 1)"
   ]
  },
  {
   "cell_type": "code",
   "execution_count": 7,
   "metadata": {},
   "outputs": [
    {
     "data": {
      "image/png": "[encoded data removed]",
      "text/plain": [
       "<Figure size 640x480 with 1 Axes>"
      ]
     },
     "metadata": {},
     "output_type": "display_data"
    }
   ],
   "source": [
    "def plot_image(img, label=None, cmap='gray'):\n",
    "  img = img.squeeze(0)\n",
    "  plt.tick_params(left=False, bottom=True, labelleft=False, labelbottom=False)\n",
    "\n",
    "  if label is not None:\n",
    "    plt.title(\"Target digit: \" + str(label))\n",
    "  plt.imshow(img, cmap=cmap)\n",
    "\n",
    "\n",
    "plot_image(denorm(train_data[0][0]), train_data[0][1])"
   ]
  },
  {
   "cell_type": "code",
   "execution_count": 8,
   "metadata": {},
   "outputs": [],
   "source": [
    "from torch.utils.data import DataLoader\n",
    "\n",
    "batch_size = 128\n",
    "train_loader = DataLoader(train_data, batch_size, shuffle=True, num_workers=2)\n",
    "test_loader = DataLoader(test_data, batch_size, shuffle=False, num_workers=2)"
   ]
  },
  {
   "cell_type": "code",
   "execution_count": 9,
   "metadata": {},
   "outputs": [
    {
     "name": "stdout",
     "output_type": "stream",
     "text": [
      "Number of batches: 469\n"
     ]
    },
    {
     "data": {
      "image/png": "[encoded data removed]",
      "text/plain": [
       "<Figure size 640x480 with 1 Axes>"
      ]
     },
     "metadata": {},
     "output_type": "display_data"
    }
   ],
   "source": [
    "def check_dataloader(dloader):\n",
    "  for images, labels in train_loader:\n",
    "    plot_image(images[0].numpy(), labels[0].item())\n",
    "\n",
    "    break\n",
    "\n",
    "check_dataloader(train_loader)\n",
    "print(f\"Number of batches: {len(train_loader)}\")"
   ]
  },
  {
   "cell_type": "code",
   "execution_count": 10,
   "metadata": {},
   "outputs": [],
   "source": [
    "# def create_small_loader(large_loader, num_batches):\n",
    "#   \"\"\"Creates a small loader, it will have `num_batches` batches with size `batch_size`\"\"\"\n",
    "#   small_loader = []\n",
    "\n",
    "#   for i, xy_pair in enumerate(large_loader):\n",
    "#     if (i == num_batches): break\n",
    "\n",
    "#     small_loader.append(xy_pair)\n",
    "\n",
    "#   return small_loader\n",
    "\n",
    "# train_loader = create_small_loader(train_loader, 2)\n",
    "# len(train_loader)"
   ]
  },
  {
   "cell_type": "code",
   "execution_count": 11,
   "metadata": {},
   "outputs": [
    {
     "data": {
      "text/plain": [
       "device(type='cuda')"
      ]
     },
     "execution_count": 11,
     "metadata": {},
     "output_type": "execute_result"
    }
   ],
   "source": [
    "device = torch.device('cuda' if torch.cuda.is_available() else 'cpu')\n",
    "device"
   ]
  },
  {
   "attachments": {},
   "cell_type": "markdown",
   "metadata": {},
   "source": [
    "### Designing the GAN\n",
    "\n",
    "##### Desigining the Discriminator"
   ]
  },
  {
   "cell_type": "code",
   "execution_count": 12,
   "metadata": {},
   "outputs": [],
   "source": [
    "class Discriminator(nn.Module):\n",
    "\n",
    "  def __init__(self, image_size, hidden_size):\n",
    "    super(Discriminator, self).__init__()\n",
    "\n",
    "    self.image_size, self.hidden_size = image_size, hidden_size\n",
    "\n",
    "    self.lin1 = nn.Linear(image_size, hidden_size)\n",
    "    self.lrelu = nn.LeakyReLU(0.2)\n",
    "    self.bn1 = nn.BatchNorm1d(hidden_size)\n",
    "\n",
    "    self.lin2 = nn.Linear(hidden_size, hidden_size)\n",
    "    self.lin3 = nn.Linear(hidden_size, 1)\n",
    "\n",
    "    \n",
    "  def forward(self, X):\n",
    "    # X = self.bn1(self.lrelu(self.lin1(X)))\n",
    "    # X = self.bn1(self.lrelu(self.lin2(X)))\n",
    "    X = self.lrelu(self.lin1(X))\n",
    "    X = self.lrelu(self.lin2(X))\n",
    "    return torch.sigmoid(self.lin3(X))\n",
    "\n",
    "  def __repr__(self) -> str:\n",
    "    return f\"Linear({self.image_size}, {self.hidden_size}) -> LeakyReLU(0.02) ->\\nLinear({self.hidden_size}, {self.hidden_size}) -> LeakyReLU(0.02) ->\\nLinear({self.hidden_size}, 1) -> Sigmoid()\"\n"
   ]
  },
  {
   "cell_type": "code",
   "execution_count": 13,
   "metadata": {},
   "outputs": [
    {
     "data": {
      "text/plain": [
       "Linear(784, 256) -> LeakyReLU(0.02) ->\n",
       "Linear(256, 256) -> LeakyReLU(0.02) ->\n",
       "Linear(256, 1) -> Sigmoid()"
      ]
     },
     "execution_count": 13,
     "metadata": {},
     "output_type": "execute_result"
    }
   ],
   "source": [
    "image_size, hidden_size = 784, 256\n",
    "disc = Discriminator(image_size, hidden_size)\n",
    "disc.to(device)"
   ]
  },
  {
   "attachments": {},
   "cell_type": "markdown",
   "metadata": {},
   "source": [
    "##### Designing the Generator"
   ]
  },
  {
   "cell_type": "code",
   "execution_count": 14,
   "metadata": {},
   "outputs": [],
   "source": [
    "class Generator(nn.Module):\n",
    "\n",
    "  def __init__(self, latent_size, hidden_size, image_size):\n",
    "    super(Generator, self).__init__()\n",
    "    self.lin1 = nn.Linear(latent_size, hidden_size)\n",
    "    self.lrelu = nn.ReLU()\n",
    "\n",
    "    self.lin2 = nn.Linear(hidden_size, hidden_size)\n",
    "    self.lin3 = nn.Linear(hidden_size, image_size)\n",
    "\n",
    "\n",
    "  def forward(self, X):\n",
    "    X = self.lrelu(self.lin1(X))\n",
    "    X = self.lrelu(self.lin2(X))\n",
    "    return torch.tanh(self.lin3(X))"
   ]
  },
  {
   "cell_type": "code",
   "execution_count": 15,
   "metadata": {},
   "outputs": [
    {
     "data": {
      "text/plain": [
       "Generator(\n",
       "  (lin1): Linear(in_features=64, out_features=256, bias=True)\n",
       "  (lrelu): ReLU()\n",
       "  (lin2): Linear(in_features=256, out_features=256, bias=True)\n",
       "  (lin3): Linear(in_features=256, out_features=784, bias=True)\n",
       ")"
      ]
     },
     "execution_count": 15,
     "metadata": {},
     "output_type": "execute_result"
    }
   ],
   "source": [
    "latent_size = 64\n",
    "gen = Generator(latent_size, hidden_size, image_size)\n",
    "gen.to(device)"
   ]
  },
  {
   "cell_type": "code",
   "execution_count": 16,
   "metadata": {},
   "outputs": [
    {
     "data": {
      "image/png": "[encoded data removed]",
      "text/plain": [
       "<Figure size 640x480 with 1 Axes>"
      ]
     },
     "metadata": {},
     "output_type": "display_data"
    }
   ],
   "source": [
    "# testing out the generator\n",
    "y = gen(torch.randn((1, latent_size), device=device))\n",
    "plot_image(denorm( y.reshape(1, 28, 28)).detach().cpu().numpy())"
   ]
  },
  {
   "attachments": {},
   "cell_type": "markdown",
   "metadata": {},
   "source": [
    "### Training the Discriminator"
   ]
  },
  {
   "cell_type": "code",
   "execution_count": 17,
   "metadata": {},
   "outputs": [],
   "source": [
    "def reset_grad(optims):\n",
    "  for optim in optims:\n",
    "    optims[optim].zero_grad()"
   ]
  },
  {
   "cell_type": "code",
   "execution_count": 18,
   "metadata": {},
   "outputs": [],
   "source": [
    "def get_accuracy_binary(outputs, target_class):\n",
    "  \"\"\"Returns num_correct\"\"\"\n",
    "  len_outputs = outputs.size(0)\n",
    "  num_correct = (torch.round(outputs) == target_class).sum()\n",
    "  return num_correct.item()\n"
   ]
  },
  {
   "cell_type": "code",
   "execution_count": 19,
   "metadata": {},
   "outputs": [
    {
     "data": {
      "text/plain": [
       "(tensor([[0.5179],\n",
       "         [0.9062],\n",
       "         [0.6121]]),\n",
       " 3)"
      ]
     },
     "execution_count": 19,
     "metadata": {},
     "output_type": "execute_result"
    }
   ],
   "source": [
    "a = torch.rand((3, 1))\n",
    "a, get_accuracy_binary(a, 1)"
   ]
  },
  {
   "cell_type": "code",
   "execution_count": 20,
   "metadata": {},
   "outputs": [],
   "source": [
    "def train_discriminator(images, disc, gen, optimizers, criterion):\n",
    "  \"\"\"Returns the following for each minibatch: `(loss, real_score, fake_score)`\"\"\"\n",
    "\n",
    "  # batch_size is redefined because len of images might be redefined somewhere else\n",
    "  batch_size = len(images)\n",
    "\n",
    "  real_labels = torch.ones((batch_size, 1), device=device)\n",
    "  fake_labels = torch.zeros((batch_size, 1), device=device)\n",
    "\n",
    "  # train on real data, discriminator should aim to predict 1\n",
    "  outputs = disc(images)\n",
    "  d_real = criterion(outputs, real_labels)\n",
    "  # we set target class to 1 below, because discriminator's accuracy on real images should be based on 1\n",
    "  real_score = get_accuracy_binary(outputs, 1)\n",
    "\n",
    "  # train on fake data, discriminator should aim to predict 0\n",
    "  Z = torch.randn((batch_size, latent_size), device=device)\n",
    "  fake_images = gen(Z)\n",
    "\n",
    "  outputs = disc(fake_images)\n",
    "  # we set target class to 0 below, because discriminator's accuracy on fake images should be based on 0\n",
    "  d_fake = criterion(outputs, fake_labels)\n",
    "  fake_score = get_accuracy_binary(outputs, 0)\n",
    "\n",
    "  d_loss = d_real + d_fake\n",
    "\n",
    "  reset_grad(optimizers)\n",
    "  d_loss.backward()\n",
    "  nn.utils.clip_grad_norm_(disc.parameters(), 1)\n",
    "\n",
    "  optimizers[\"disc\"].step()\n",
    "\n",
    "  return d_loss, real_score, fake_score"
   ]
  },
  {
   "attachments": {},
   "cell_type": "markdown",
   "metadata": {},
   "source": [
    "### Training the Generator"
   ]
  },
  {
   "cell_type": "code",
   "execution_count": 21,
   "metadata": {},
   "outputs": [],
   "source": [
    "def train_generator(disc, gen, optimizers, loss):\n",
    "  \"\"\"Returns the following for 1 minibatch: `(loss, fake_images)`. This loss is the loss attributed to the amount of images that the generator produced that got classified as fake. This will aim to improve the generator.\"\"\"\n",
    "  real_labels = torch.ones((batch_size, 1), device=device)\n",
    "\n",
    "  Z = torch.randn((batch_size, latent_size), device=device)\n",
    "  fake_images = gen(Z)\n",
    "\n",
    "  disc_preds = disc(fake_images)\n",
    "\n",
    "  # fake_score = get_accuracy_binary(disc_preds, 1)\n",
    "\n",
    "  # generator has to try and fool the discriminator\n",
    "  # try and make the discriminator predict 1 for actually fake images\n",
    "  d_loss = loss(disc_preds, real_labels)\n",
    "\n",
    "  reset_grad(optimizers)\n",
    "  d_loss.backward()\n",
    "  nn.utils.clip_grad_norm_(disc.parameters(), 1)\n",
    "  nn.utils.clip_grad_norm_(gen.parameters(), 1)\n",
    "  \n",
    "  optimizers['gen'].step()\n",
    "\n",
    "  return d_loss, fake_images"
   ]
  },
  {
   "attachments": {},
   "cell_type": "markdown",
   "metadata": {},
   "source": [
    "##### Utilites for visualisation of images"
   ]
  },
  {
   "cell_type": "code",
   "execution_count": 22,
   "metadata": {},
   "outputs": [],
   "source": [
    "real_samples_dir, fake_samples_dir = 'samples/real', 'samples/fake'\n",
    "\n",
    "for dir in [real_samples_dir, fake_samples_dir]:\n",
    "  os.makedirs(dir, exist_ok=True)"
   ]
  },
  {
   "cell_type": "code",
   "execution_count": 23,
   "metadata": {},
   "outputs": [],
   "source": [
    "from IPython.display import Image\n",
    "from torchvision.utils import save_image, make_grid\n",
    "\n",
    "n_rows, n_cols = 8, 8\n",
    "\n",
    "\n",
    "def save_real_images(loader):\n",
    "\n",
    "  real_grid_path = os.path.join(real_samples_dir, 'real_grid.png')\n",
    "\n",
    "  # if real image grid exists, don't make it again\n",
    "  if os.path.exists(real_grid_path):\n",
    "    return\n",
    "\n",
    "  # we will save a grid of real images\n",
    "  for images, labels in loader:\n",
    "    images = denorm(images)\n",
    "    grid_image = make_grid(images, n_rows).permute(1, 2, 0)\n",
    "    plot_image(grid_image, \"Grid of real images\")\n",
    "    print(\"Saving above real grid of images\")\n",
    "    save_image(images, real_grid_path, n_rows=n_rows)\n",
    "    break\n"
   ]
  },
  {
   "cell_type": "code",
   "execution_count": 24,
   "metadata": {},
   "outputs": [],
   "source": [
    "sample_latent_vector = torch.randn((batch_size, latent_size), device=device)\n",
    "\n",
    "def save_fake_images(index):\n",
    "  gen_images = gen(sample_latent_vector)\n",
    "\n",
    "  target_shape = (sample_latent_vector.size(0), 1, 28, 28)\n",
    "  gen_images = denorm(gen_images).reshape(target_shape)\n",
    "  fake_grid_path = os.path.join(fake_samples_dir, f\"fake_{index:04d}.png\")\n",
    "  save_image(gen_images, fake_grid_path, n_rows=n_rows)\n",
    "\n",
    "save_fake_images(0)"
   ]
  },
  {
   "attachments": {},
   "cell_type": "markdown",
   "metadata": {},
   "source": [
    "### Training of the entire network"
   ]
  },
  {
   "cell_type": "code",
   "execution_count": 25,
   "metadata": {},
   "outputs": [],
   "source": [
    "criterion = nn.BCELoss()\n",
    "lr = 0.0002\n",
    "\n",
    "optimizers = {\n",
    "  \"disc\": torch.optim.Adam(disc.parameters(), lr=lr),\n",
    "  \"gen\": torch.optim.Adam(gen.parameters(), lr=lr)\n",
    "}"
   ]
  },
  {
   "cell_type": "code",
   "execution_count": 26,
   "metadata": {},
   "outputs": [
    {
     "name": "stdout",
     "output_type": "stream",
     "text": [
      "Epoch [187 | 600]: \n",
      "\t d_loss: 1.5834379196166992, g_loss: 1.05126953125, D(X): 49, D(G(z)): 51\n",
      "Epoch [188 | 600]: \n",
      "\t d_loss: 2.2828643321990967, g_loss: 0.5175380706787109, D(X): 59, D(G(z)): 16\n",
      "Epoch [189 | 600]: \n",
      "\t d_loss: 2.07662296295166, g_loss: 0.48934727907180786, D(X): 67, D(G(z)): 18\n",
      "Saving the fake images for the epoch 189\n",
      "Epoch [190 | 600]: \n",
      "\t d_loss: 0.8039531707763672, g_loss: 2.006746292114258, D(X): 71, D(G(z)): 87\n",
      "Epoch [191 | 600]: \n",
      "\t d_loss: 1.0864113569259644, g_loss: 1.4285824298858643, D(X): 71, D(G(z)): 64\n",
      "Epoch [192 | 600]: \n",
      "\t d_loss: 1.5496337413787842, g_loss: 0.8370823264122009, D(X): 73, D(G(z)): 37\n",
      "Saving the fake images for the epoch 192\n",
      "Epoch [193 | 600]: \n",
      "\t d_loss: 1.8668965101242065, g_loss: 0.6383513808250427, D(X): 60, D(G(z)): 30\n",
      "Epoch [194 | 600]: \n"
     ]
    },
    {
     "ename": "KeyboardInterrupt",
     "evalue": "",
     "output_type": "error",
     "traceback": [
      "\u001b[1;31m---------------------------------------------------------------------------\u001b[0m",
      "\u001b[1;31mKeyboardInterrupt\u001b[0m                         Traceback (most recent call last)",
      "\u001b[1;32m~\\AppData\\Local\\Temp/ipykernel_19368/2181867440.py\u001b[0m in \u001b[0;36m<module>\u001b[1;34m\u001b[0m\n\u001b[0;32m     47\u001b[0m \u001b[1;33m\u001b[0m\u001b[0m\n\u001b[0;32m     48\u001b[0m \u001b[1;33m\u001b[0m\u001b[0m\n\u001b[1;32m---> 49\u001b[1;33m \u001b[0mtrain_network\u001b[0m\u001b[1;33m(\u001b[0m\u001b[0mdisc\u001b[0m\u001b[1;33m,\u001b[0m \u001b[0mgen\u001b[0m\u001b[1;33m,\u001b[0m \u001b[0mtrain_loader\u001b[0m\u001b[1;33m,\u001b[0m \u001b[0moptimizers\u001b[0m\u001b[1;33m,\u001b[0m \u001b[0mcriterion\u001b[0m\u001b[1;33m,\u001b[0m \u001b[1;36m600\u001b[0m\u001b[1;33m)\u001b[0m\u001b[1;33m;\u001b[0m\u001b[1;33m\u001b[0m\u001b[1;33m\u001b[0m\u001b[0m\n\u001b[0m",
      "\u001b[1;32m~\\AppData\\Local\\Temp/ipykernel_19368/2181867440.py\u001b[0m in \u001b[0;36mtrain_network\u001b[1;34m(disc, gen, train_loader, optimizers, loss, num_epochs, train_if_exists)\u001b[0m\n\u001b[0;32m     29\u001b[0m       \u001b[0mimages\u001b[0m \u001b[1;33m=\u001b[0m \u001b[0mimages\u001b[0m\u001b[1;33m.\u001b[0m\u001b[0mreshape\u001b[0m\u001b[1;33m(\u001b[0m\u001b[0mimages\u001b[0m\u001b[1;33m.\u001b[0m\u001b[0msize\u001b[0m\u001b[1;33m(\u001b[0m\u001b[1;36m0\u001b[0m\u001b[1;33m)\u001b[0m\u001b[1;33m,\u001b[0m \u001b[1;33m-\u001b[0m\u001b[1;36m1\u001b[0m\u001b[1;33m)\u001b[0m\u001b[1;33m.\u001b[0m\u001b[0mto\u001b[0m\u001b[1;33m(\u001b[0m\u001b[0mdevice\u001b[0m\u001b[1;33m)\u001b[0m\u001b[1;33m\u001b[0m\u001b[1;33m\u001b[0m\u001b[0m\n\u001b[0;32m     30\u001b[0m \u001b[1;33m\u001b[0m\u001b[0m\n\u001b[1;32m---> 31\u001b[1;33m       \u001b[0md_loss\u001b[0m\u001b[1;33m,\u001b[0m \u001b[0mreal_score\u001b[0m\u001b[1;33m,\u001b[0m \u001b[0mfake_score\u001b[0m \u001b[1;33m=\u001b[0m \u001b[0mtrain_discriminator\u001b[0m\u001b[1;33m(\u001b[0m\u001b[0mimages\u001b[0m\u001b[1;33m,\u001b[0m \u001b[0mdisc\u001b[0m\u001b[1;33m,\u001b[0m \u001b[0mgen\u001b[0m\u001b[1;33m,\u001b[0m \u001b[0moptimizers\u001b[0m\u001b[1;33m,\u001b[0m \u001b[0mloss\u001b[0m\u001b[1;33m)\u001b[0m\u001b[1;33m\u001b[0m\u001b[1;33m\u001b[0m\u001b[0m\n\u001b[0m\u001b[0;32m     32\u001b[0m       \u001b[0mg_loss\u001b[0m\u001b[1;33m,\u001b[0m \u001b[0mfake_images\u001b[0m \u001b[1;33m=\u001b[0m \u001b[0mtrain_generator\u001b[0m\u001b[1;33m(\u001b[0m\u001b[0mdisc\u001b[0m\u001b[1;33m,\u001b[0m \u001b[0mgen\u001b[0m\u001b[1;33m,\u001b[0m \u001b[0moptimizers\u001b[0m\u001b[1;33m,\u001b[0m \u001b[0mloss\u001b[0m\u001b[1;33m)\u001b[0m\u001b[1;33m\u001b[0m\u001b[1;33m\u001b[0m\u001b[0m\n\u001b[0;32m     33\u001b[0m \u001b[1;33m\u001b[0m\u001b[0m\n",
      "\u001b[1;32m~\\AppData\\Local\\Temp/ipykernel_19368/3795095837.py\u001b[0m in \u001b[0;36mtrain_discriminator\u001b[1;34m(images, disc, gen, optimizers, criterion)\u001b[0m\n\u001b[0;32m     26\u001b[0m \u001b[1;33m\u001b[0m\u001b[0m\n\u001b[0;32m     27\u001b[0m   \u001b[0mreset_grad\u001b[0m\u001b[1;33m(\u001b[0m\u001b[0moptimizers\u001b[0m\u001b[1;33m)\u001b[0m\u001b[1;33m\u001b[0m\u001b[1;33m\u001b[0m\u001b[0m\n\u001b[1;32m---> 28\u001b[1;33m   \u001b[0md_loss\u001b[0m\u001b[1;33m.\u001b[0m\u001b[0mbackward\u001b[0m\u001b[1;33m(\u001b[0m\u001b[1;33m)\u001b[0m\u001b[1;33m\u001b[0m\u001b[1;33m\u001b[0m\u001b[0m\n\u001b[0m\u001b[0;32m     29\u001b[0m   \u001b[0mnn\u001b[0m\u001b[1;33m.\u001b[0m\u001b[0mutils\u001b[0m\u001b[1;33m.\u001b[0m\u001b[0mclip_grad_norm_\u001b[0m\u001b[1;33m(\u001b[0m\u001b[0mdisc\u001b[0m\u001b[1;33m.\u001b[0m\u001b[0mparameters\u001b[0m\u001b[1;33m(\u001b[0m\u001b[1;33m)\u001b[0m\u001b[1;33m,\u001b[0m \u001b[1;36m1\u001b[0m\u001b[1;33m)\u001b[0m\u001b[1;33m\u001b[0m\u001b[1;33m\u001b[0m\u001b[0m\n\u001b[0;32m     30\u001b[0m \u001b[1;33m\u001b[0m\u001b[0m\n",
      "\u001b[1;32md:\\ProgramFiles\\anaconda\\envs\\fastapi-ml\\lib\\site-packages\\torch\\_tensor.py\u001b[0m in \u001b[0;36mbackward\u001b[1;34m(self, gradient, retain_graph, create_graph, inputs)\u001b[0m\n\u001b[0;32m    486\u001b[0m                 \u001b[0minputs\u001b[0m\u001b[1;33m=\u001b[0m\u001b[0minputs\u001b[0m\u001b[1;33m,\u001b[0m\u001b[1;33m\u001b[0m\u001b[1;33m\u001b[0m\u001b[0m\n\u001b[0;32m    487\u001b[0m             )\n\u001b[1;32m--> 488\u001b[1;33m         torch.autograd.backward(\n\u001b[0m\u001b[0;32m    489\u001b[0m             \u001b[0mself\u001b[0m\u001b[1;33m,\u001b[0m \u001b[0mgradient\u001b[0m\u001b[1;33m,\u001b[0m \u001b[0mretain_graph\u001b[0m\u001b[1;33m,\u001b[0m \u001b[0mcreate_graph\u001b[0m\u001b[1;33m,\u001b[0m \u001b[0minputs\u001b[0m\u001b[1;33m=\u001b[0m\u001b[0minputs\u001b[0m\u001b[1;33m\u001b[0m\u001b[1;33m\u001b[0m\u001b[0m\n\u001b[0;32m    490\u001b[0m         )\n",
      "\u001b[1;32md:\\ProgramFiles\\anaconda\\envs\\fastapi-ml\\lib\\site-packages\\torch\\autograd\\__init__.py\u001b[0m in \u001b[0;36mbackward\u001b[1;34m(tensors, grad_tensors, retain_graph, create_graph, grad_variables, inputs)\u001b[0m\n\u001b[0;32m    195\u001b[0m     \u001b[1;31m# some Python versions print out the first line of a multi-line function\u001b[0m\u001b[1;33m\u001b[0m\u001b[1;33m\u001b[0m\u001b[0m\n\u001b[0;32m    196\u001b[0m     \u001b[1;31m# calls in the traceback and some print out the last line\u001b[0m\u001b[1;33m\u001b[0m\u001b[1;33m\u001b[0m\u001b[0m\n\u001b[1;32m--> 197\u001b[1;33m     Variable._execution_engine.run_backward(  # Calls into the C++ engine to run the backward pass\n\u001b[0m\u001b[0;32m    198\u001b[0m         \u001b[0mtensors\u001b[0m\u001b[1;33m,\u001b[0m \u001b[0mgrad_tensors_\u001b[0m\u001b[1;33m,\u001b[0m \u001b[0mretain_graph\u001b[0m\u001b[1;33m,\u001b[0m \u001b[0mcreate_graph\u001b[0m\u001b[1;33m,\u001b[0m \u001b[0minputs\u001b[0m\u001b[1;33m,\u001b[0m\u001b[1;33m\u001b[0m\u001b[1;33m\u001b[0m\u001b[0m\n\u001b[0;32m    199\u001b[0m         allow_unreachable=True, accumulate_grad=True)  # Calls into the C++ engine to run the backward pass\n",
      "\u001b[1;31mKeyboardInterrupt\u001b[0m: "
     ]
    }
   ],
   "source": [
    "from math import floor\n",
    "\n",
    "def init_weights(m):\n",
    "  if isinstance(m, nn.Linear):\n",
    "    nn.init.xavier_uniform_(m.weight)\n",
    "    m.bias.data.fill_(0)\n",
    "\n",
    "def train_network(disc, gen, train_loader, optimizers, loss, num_epochs, train_if_exists=False):\n",
    "\n",
    "  disc.apply(init_weights)\n",
    "  \n",
    "  starting_epoch = 0\n",
    "\n",
    "  if os.path.exists(linear_model_path):\n",
    "    checkpoint = torch.load(linear_model_path)\n",
    "    disc.load_state_dict(checkpoint[\"disc_state_dict\"])\n",
    "    gen.load_state_dict(checkpoint[\"gen_state_dict\"])\n",
    "    loss = checkpoint[\"criterion\"]\n",
    "    starting_epoch = checkpoint[\"epoch\"]\n",
    "\n",
    "  d_losses, g_losses, real_scores, fake_scores = [], [], [], []\n",
    "\n",
    "  for epoch in range(starting_epoch, num_epochs ):\n",
    "\n",
    "    print(f\"Epoch [{epoch} | {num_epochs}]: \")\n",
    "\n",
    "    for i, ( images, labels ) in enumerate( train_loader ):\n",
    "\n",
    "      images = images.reshape(images.size(0), -1).to(device)\n",
    "\n",
    "      d_loss, real_score, fake_score = train_discriminator(images, disc, gen, optimizers, loss)\n",
    "      g_loss, fake_images = train_generator(disc, gen, optimizers, loss)\n",
    "\n",
    "    print(f\"\\t d_loss: {d_loss}, g_loss: {g_loss}, D(X): {real_score}, D(G(z)): {fake_score}\")\n",
    "\n",
    "    d_losses.append(d_loss)\n",
    "    g_losses.append(g_loss)\n",
    "    real_scores.append(real_score)\n",
    "    fake_scores.append(fake_score)\n",
    "    \n",
    "    if epoch % 3 == 0:\n",
    "      print(f\"Saving the fake images for the epoch {epoch}\")\n",
    "      save_fake_images(epoch)\n",
    "\n",
    "  \n",
    "  return d_losses, g_losses, real_scores, fake_scores\n",
    "\n",
    "\n",
    "train_network(disc, gen, train_loader, optimizers, criterion, 600);"
   ]
  },
  {
   "cell_type": "code",
   "execution_count": null,
   "metadata": {},
   "outputs": [
    {
     "data": {
      "image/png": "[encoded data removed]",
      "text/plain": [
       "<Figure size 640x480 with 1 Axes>"
      ]
     },
     "metadata": {},
     "output_type": "display_data"
    }
   ],
   "source": [
    "Z = torch.randn((1, latent_size), device=device)\n",
    "plot_image(gen(Z).reshape(28, 28).detach().cpu())"
   ]
  },
  {
   "attachments": {},
   "cell_type": "markdown",
   "metadata": {},
   "source": [
    "### Saving our model"
   ]
  },
  {
   "cell_type": "code",
   "execution_count": null,
   "metadata": {},
   "outputs": [],
   "source": [
    "torch.save({\n",
    "  \"epoch\": 187,\n",
    "  \"disc_state_dict\": disc.state_dict(),\n",
    "  \"gen_state_dict\": gen.state_dict(),\n",
    "  \"criterion\": criterion\n",
    "}, linear_model_path)"
   ]
  }
 ],
 "metadata": {
  "kernelspec": {
   "display_name": "fastapi-ml",
   "language": "python",
   "name": "python3"
  },
  "language_info": {
   "codemirror_mode": {
    "name": "ipython",
    "version": 3
   },
   "file_extension": ".py",
   "mimetype": "text/x-python",
   "name": "python",
   "nbconvert_exporter": "python",
   "pygments_lexer": "ipython3",
   "version": "3.9.16"
  },
  "orig_nbformat": 4,
  "vscode": {
   "interpreter": {
    "hash": "a72f2fb76a61cd37ad6891cc8d4df39cb21bbe70362a60424286c2696b35476d"
   }
  }
 },
 "nbformat": 4,
 "nbformat_minor": 2
}
